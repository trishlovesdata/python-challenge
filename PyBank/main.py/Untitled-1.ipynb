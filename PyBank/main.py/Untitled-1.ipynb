{
 "cells": [
  {
   "cell_type": "code",
   "execution_count": 14,
   "metadata": {},
   "outputs": [],
   "source": [
    "import os\n",
    "import csv"
   ]
  },
  {
   "cell_type": "code",
   "execution_count": 15,
   "metadata": {},
   "outputs": [],
   "source": [
    "#Reading csv file\n",
    "budget_csv = os.path.join(\"..\",\"Resources\",\"budget_data.csv\")\n",
    "output = \"pybanksummary.txt\"\n"
   ]
  },
  {
   "cell_type": "code",
   "execution_count": 16,
   "metadata": {},
   "outputs": [],
   "source": [
    "months = []\n",
    "revenue = []"
   ]
  },
  {
   "cell_type": "code",
   "execution_count": 17,
   "metadata": {},
   "outputs": [],
   "source": [
    "with open(budget_csv) as csvfile:\n",
    "    csvreader = csv.reader(csvfile, delimiter=\",\")\n",
    "    header = next(csvreader)\n",
    "    for row in csvreader:\n",
    "        months.append(row[0])\n",
    "        revenue.append(int(row[1]))\n",
    "    revenue_change = []\n",
    "    for x in range(1,len(revenue)):\n",
    "        revenue_change.append(revenue[x]-revenue[x-1])\n",
    "    total_months = len(months)\n",
    "    total_revenue = sum(revenue)\n",
    "    avg_change = round(sum(revenue_change)/len(revenue_change),2)\n",
    "    greatest_increase = max(revenue_change)\n",
    "    greatest_decrease = min(revenue_change)\n",
    "    greatest_increase_index = revenue_change.index(greatest_increase)\n",
    "    greatest_increase_month = months[greatest_increase_index + 1]\n",
    "    greatest_decrease_index = revenue_change.index(greatest_decrease)\n",
    "    greatest_decrease_month = months[greatest_decrease_index + 1]\n",
    "\n",
    "   "
   ]
  },
  {
   "cell_type": "code",
   "execution_count": 19,
   "metadata": {},
   "outputs": [
    {
     "name": "stdout",
     "output_type": "stream",
     "text": [
      "1862002 Aug-16\n"
     ]
    }
   ],
   "source": [
    "#Printing results to terminal\n",
    "print \n"
   ]
  },
  {
   "cell_type": "code",
   "execution_count": 18,
   "metadata": {},
   "outputs": [],
   "source": [
    "with open(output, \"w\") as text_file:\n",
    "    text_file.write(\"Financial Analysis\\n\")\n",
    "    text_file.write(\"----------------------------\\n\")\n",
    "    text_file.write(f\"Total Months: {total_months}\\n\")\n",
    "    text_file.write(f\"Total: ${total_revenue}\\n\")\n",
    "    text_file.write(f\"Average Change: ${avg_change}\\n\")\n",
    "    text_file.write(f\"Greatest Increase in Profits: {greatest_increase_month} (${greatest_increase})\\n\")\n",
    "    text_file.write(f\"Greatest Decrease in Losses: {greatest_decrease_month} (${greatest_decrease})\\n\")"
   ]
  },
  {
   "cell_type": "code",
   "execution_count": null,
   "metadata": {},
   "outputs": [],
   "source": []
  }
 ],
 "metadata": {
  "kernelspec": {
   "display_name": "base",
   "language": "python",
   "name": "python3"
  },
  "language_info": {
   "codemirror_mode": {
    "name": "ipython",
    "version": 3
   },
   "file_extension": ".py",
   "mimetype": "text/x-python",
   "name": "python",
   "nbconvert_exporter": "python",
   "pygments_lexer": "ipython3",
   "version": "3.9.12"
  },
  "orig_nbformat": 4,
  "vscode": {
   "interpreter": {
    "hash": "ae44298fc773fa72b274d4faf2819ac92496d747c5c214e275cafda8656e0662"
   }
  }
 },
 "nbformat": 4,
 "nbformat_minor": 2
}
