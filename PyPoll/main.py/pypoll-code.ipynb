{
 "cells": [
  {
   "cell_type": "code",
   "execution_count": 11,
   "metadata": {},
   "outputs": [],
   "source": [
    "import os\n",
    "import csv"
   ]
  },
  {
   "cell_type": "code",
   "execution_count": 12,
   "metadata": {},
   "outputs": [],
   "source": [
    "#Reading csv file\n",
    "election_csv = os.path.join(\"..\",\"Resources\",\"election_data.csv\")\n",
    "output = os.path.join(\"..\",\"Analysis\",\"pypoll.txt\")"
   ]
  },
  {
   "cell_type": "code",
   "execution_count": 13,
   "metadata": {},
   "outputs": [],
   "source": [
    "vote_count = []\n",
    "candidates_list = []\n",
    "candidate_votes = {}\n",
    "winning_count = 0\n",
    "winner = \"\""
   ]
  },
  {
   "cell_type": "code",
   "execution_count": 14,
   "metadata": {},
   "outputs": [],
   "source": [
    "with open(election_csv) as csvfile:\n",
    "    csvreader = csv.reader(csvfile, delimiter=\",\")\n",
    "    header = next(csvreader)\n",
    "    for row in csvreader:\n",
    "        vote_count.append(row[0])\n",
    "        candidate = row[2]\n",
    "        if candidate not in candidates_list:\n",
    "            candidates_list.append(candidate)\n",
    "            candidate_votes[candidate] = 0\n",
    "        candidate_votes[candidate] = candidate_votes[candidate] + 1"
   ]
  },
  {
   "cell_type": "code",
   "execution_count": 15,
   "metadata": {},
   "outputs": [],
   "source": [
    "total_votes = len(vote_count)"
   ]
  },
  {
   "cell_type": "code",
   "execution_count": 16,
   "metadata": {},
   "outputs": [
    {
     "data": {
      "text/plain": [
       "369711"
      ]
     },
     "execution_count": 16,
     "metadata": {},
     "output_type": "execute_result"
    }
   ],
   "source": [
    "total_votes"
   ]
  },
  {
   "cell_type": "code",
   "execution_count": 17,
   "metadata": {},
   "outputs": [
    {
     "name": "stdout",
     "output_type": "stream",
     "text": [
      "Election Results \n",
      "----------------------- \n",
      "Total Votes:369711 \n",
      "----------------------- \n",
      "\n",
      "Charles Casper Stockham: 23.049% (85213) \n",
      "\n",
      "Diana DeGette: 73.812% (272892) \n",
      "\n",
      "Raymon Anthony Doane: 3.139% (11606) \n",
      "\n",
      "---------------- \n",
      "Winner:Diana DeGette \n",
      "------------------\n"
     ]
    }
   ],
   "source": [
    "with open(output, \"w\") as text_file:\n",
    "    election_results = (f\"Election Results \\n\"\n",
    "                        f\"----------------------- \\n\"\n",
    "                        f\"Total Votes:{total_votes} \\n\"\n",
    "                        f\"----------------------- \\n\")\n",
    "    print(election_results)\n",
    "    text_file.write(election_results)\n",
    "    for candidate in candidate_votes:\n",
    "        votes = candidate_votes.get(candidate)\n",
    "        vote_percentage = votes/total_votes * 100\n",
    "        if votes > winning_count:\n",
    "            winning_count = votes\n",
    "            winner = candidate\n",
    "        voter_output = f\"{candidate}: {vote_percentage:.3f}% ({votes}) \\n\"\n",
    "        print(voter_output)\n",
    "        text_file.write(voter_output)\n",
    "    winner_result = (f\"---------------- \\n\"\n",
    "                     f\"Winner:{winner} \\n\"\n",
    "                     f\"------------------\")\n",
    "    print(winner_result)\n",
    "    text_file.write(winner_result)"
   ]
  }
 ],
 "metadata": {
  "kernelspec": {
   "display_name": "base",
   "language": "python",
   "name": "python3"
  },
  "language_info": {
   "codemirror_mode": {
    "name": "ipython",
    "version": 3
   },
   "file_extension": ".py",
   "mimetype": "text/x-python",
   "name": "python",
   "nbconvert_exporter": "python",
   "pygments_lexer": "ipython3",
   "version": "3.9.12"
  },
  "orig_nbformat": 4,
  "vscode": {
   "interpreter": {
    "hash": "ae44298fc773fa72b274d4faf2819ac92496d747c5c214e275cafda8656e0662"
   }
  }
 },
 "nbformat": 4,
 "nbformat_minor": 2
}
